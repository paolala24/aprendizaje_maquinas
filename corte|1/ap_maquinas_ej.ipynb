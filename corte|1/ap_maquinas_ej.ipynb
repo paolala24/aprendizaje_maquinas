{
  "nbformat": 4,
  "nbformat_minor": 0,
  "metadata": {
    "colab": {
      "provenance": [],
      "authorship_tag": "ABX9TyP01FQokadeJ2gZ6y2lgZIW",
      "include_colab_link": true
    },
    "kernelspec": {
      "name": "python3",
      "display_name": "Python 3"
    },
    "language_info": {
      "name": "python"
    }
  },
  "cells": [
    {
      "cell_type": "markdown",
      "metadata": {
        "id": "view-in-github",
        "colab_type": "text"
      },
      "source": [
        "<a href=\"https://colab.research.google.com/github/paolala24/aprendizaje_maquinas/blob/main/corte%7C1/ap_maquinas_ej.ipynb\" target=\"_parent\"><img src=\"https://colab.research.google.com/assets/colab-badge.svg\" alt=\"Open In Colab\"/></a>"
      ]
    },
    {
      "cell_type": "code",
      "source": [
        "from fractions import Fraction\n",
        "\n",
        "# Definir las probabilidades iniciales\n",
        "p_b_r = Fraction(4, 10)  # Probabilidad de seleccionar la urna roja\n",
        "p_b_b = Fraction(6, 10)  # Probabilidad de seleccionar la urna azul\n",
        "\n",
        "# Definir las probabilidades condicionales\n",
        "p_f_a_given_b_r = Fraction(2, 8)  # Probabilidad de seleccionar una manzana dado que se seleccionó la urna roja\n",
        "p_f_o_given_b_r = Fraction(6, 8)  # Probabilidad de seleccionar una naranja dado que se seleccionó la urna roja\n",
        "p_f_a_given_b_b = Fraction(3, 4)  # Probabilidad de seleccionar una manzana dado que se seleccionó la urna azul\n",
        "p_f_o_given_b_b = Fraction(1, 4)  # Probabilidad de seleccionar una naranja dado que se seleccionó la urna azul\n",
        "\n",
        "# Calcular P(F = a)\n",
        "p_f_a = p_f_a_given_b_r * p_b_r + p_f_a_given_b_b * p_b_b\n",
        "\n",
        "# Calcular P(F = o)\n",
        "p_f_o = p_f_o_given_b_r * p_b_r + p_f_o_given_b_b * p_b_b\n",
        "\n",
        "# Calcular P(B = r | F = o)\n",
        "p_b_r_given_f_o = (p_f_o_given_b_r * p_b_r) / p_f_o\n",
        "\n",
        "# Calcular P(B = b | F = o)\n",
        "p_b_b_given_f_o = (p_f_o_given_b_b * p_b_b) / p_f_o\n",
        "\n",
        "# Calcular P(B = r | F = a)\n",
        "p_b_r_given_f_a = (p_f_a_given_b_r * p_b_r) / p_f_a\n",
        "\n",
        "# Calcular P(B = b | F = a)\n",
        "p_b_b_given_f_a = (p_f_a_given_b_b * p_b_b) / p_f_a\n",
        "\n",
        "# Imprimir los resultados\n",
        "print(\"P(F = a) =\", p_f_a)\n",
        "print(\"P(F = o) =\", p_f_o)\n",
        "print(\"P(B = r | F = o) =\", p_b_r_given_f_o)\n",
        "print(\"P(B = b | F = o) =\", p_b_b_given_f_o)\n",
        "print(\"P(B = r | F = a) =\", p_b_r_given_f_a)\n",
        "print(\"P(B = b | F = a) =\", p_b_b_given_f_a)"
      ],
      "metadata": {
        "colab": {
          "base_uri": "https://localhost:8080/"
        },
        "id": "69OqJ7OsXCDu",
        "outputId": "185c8df6-0a9e-40cb-dfe1-1e9ededaf7f6"
      },
      "execution_count": 2,
      "outputs": [
        {
          "output_type": "stream",
          "name": "stdout",
          "text": [
            "P(F = a) = 11/20\n",
            "P(F = o) = 9/20\n",
            "P(B = r | F = o) = 2/3\n",
            "P(B = b | F = o) = 1/3\n",
            "P(B = r | F = a) = 2/11\n",
            "P(B = b | F = a) = 9/11\n"
          ]
        }
      ]
    },
    {
      "cell_type": "code",
      "source": [
        "#hola, en el ejercicio que estoy haciendo, podrias darme un codigo mas generico donde pueda agregar una urna mas?\n",
        "\n",
        "\n",
        "from fractions import Fraction\n",
        "\n",
        "def calcular_probabilidades(urnas, frutas_por_urna, probabilidades_urnas):\n",
        "    \"\"\"\n",
        "    Calcula las probabilidades condicionales utilizando el teorema de Bayes.\n",
        "\n",
        "    Args:\n",
        "        urnas: Una lista de nombres de urnas (e.g., ['urna_roja', 'urna_azul', 'urna_verde']).\n",
        "        frutas_por_urna: Un diccionario que mapea cada urna a un diccionario de frutas y sus cantidades (e.g., {'urna_roja': {'manzana': 2, 'naranja': 6}, ...}).\n",
        "        probabilidades_urnas: Un diccionario que mapea cada urna a su probabilidad inicial (e.g., {'urna_roja': Fraction(4, 10), ...}).\n",
        "\n",
        "    Returns:\n",
        "        Un diccionario que contiene las probabilidades condicionales.\n",
        "    \"\"\"\n",
        "\n",
        "    # Calcular las probabilidades marginales de las frutas\n",
        "    probabilidades_frutas = {}\n",
        "    for fruta in set(fruta for urna in frutas_por_urna for fruta in frutas_por_urna[urna]):\n",
        "        probabilidades_frutas[fruta] = Fraction(0)\n",
        "        for urna in urnas:\n",
        "            if fruta in frutas_por_urna[urna]:\n",
        "                probabilidades_frutas[fruta] += probabilidades_urnas[urna] * Fraction(frutas_por_urna[urna][fruta], sum(frutas_por_urna[urna].values()))\n",
        "\n",
        "    # Calcular las probabilidades condicionales\n",
        "    probabilidades_condicionales = {}\n",
        "    for urna in urnas:\n",
        "        probabilidades_condicionales[urna] = {}\n",
        "        for fruta in probabilidades_frutas:\n",
        "            if fruta in frutas_por_urna[urna]:\n",
        "                probabilidades_condicionales[urna][fruta] = (probabilidades_urnas[urna] * Fraction(frutas_por_urna[urna][fruta], sum(frutas_por_urna[urna].values()))) / probabilidades_frutas[fruta]\n",
        "            else:\n",
        "                probabilidades_condicionales[urna][fruta] = Fraction(0)\n",
        "\n",
        "    return probabilidades_condicionales\n",
        "\n",
        "# Ejemplo de uso con tres urnas\n",
        "urnas = ['urna_roja', 'urna_azul', 'urna_verde']\n",
        "frutas_por_urna = {\n",
        "    'urna_roja': {'manzana': 2, 'naranja': 6},\n",
        "    'urna_azul': {'manzana': 3, 'naranja': 1},\n",
        "    'urna_verde': {'manzana': 4, 'naranja': 2}  # Nueva urna verde\n",
        "}\n",
        "probabilidades_urnas = {\n",
        "    'urna_roja': Fraction(4, 10),\n",
        "    'urna_azul': Fraction(3, 10),\n",
        "    'urna_verde': Fraction(3, 10)  # Nueva probabilidad para la urna verde\n",
        "}\n",
        "\n",
        "probabilidades = calcular_probabilidades(urnas, frutas_por_urna, probabilidades_urnas)\n",
        "\n",
        "# Imprimir los resultados\n",
        "for urna in probabilidades:\n",
        "    for fruta in probabilidades[urna]:\n",
        "        print(f\"P({urna} | {fruta}) = {probabilidades[urna][fruta]}\")"
      ],
      "metadata": {
        "colab": {
          "base_uri": "https://localhost:8080/"
        },
        "id": "t3n4emNAZ0qb",
        "outputId": "bc5018f9-40b5-4536-e8e3-02bff436734d"
      },
      "execution_count": 6,
      "outputs": [
        {
          "output_type": "stream",
          "name": "stdout",
          "text": [
            "P(urna_roja | manzana) = 4/21\n",
            "P(urna_roja | naranja) = 12/19\n",
            "P(urna_azul | manzana) = 3/7\n",
            "P(urna_azul | naranja) = 3/19\n",
            "P(urna_verde | manzana) = 8/21\n",
            "P(urna_verde | naranja) = 4/19\n"
          ]
        }
      ]
    }
  ]
}